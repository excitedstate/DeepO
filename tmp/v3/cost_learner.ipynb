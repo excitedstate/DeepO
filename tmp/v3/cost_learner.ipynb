{
 "cells": [
  {
   "cell_type": "code",
   "execution_count": 0,
   "metadata": {
    "collapsed": true
   },
   "outputs": [],
   "source": []
  },
  {
   "cell_type": "code",
   "execution_count": 427,
   "outputs": [],
   "source": [
    "import collections\n",
    "\n",
    "import torch\n",
    "import tqdm\n",
    "from tensorflow.python.keras.preprocessing.sequence import pad_sequences\n",
    "from src.query_plan import QueryPlanNode, QueryPlan\n",
    "import typing\n",
    "import pickle\n",
    "import os.path\n",
    "import numpy as np\n",
    "from src.cost_learner import CostLearnerNet\n",
    "from src.config import DATA_PATH_PKL, DATA_PATH_MODEL\n",
    "from src.embedding import Embedding, EmbeddingNet4Nodes\n",
    "\n",
    "\n",
    "class CostLearner:\n",
    "    \"\"\"\n",
    "        完成训练之后, 现在应当能对给定的查询计划进行代价预测了!\n",
    "        对于任意的查询计划, 该类的一个实例可以给出查询代价的预测值\n",
    "    \"\"\"\n",
    "\n",
    "    def __init__(self, vocab_encoding_dict: typing.Union[str, dict[str, np.ndarray]],\n",
    "                 node_embedding_net_load_from: str, cost_learner_net_load_from: str):\n",
    "        self.vocab_encode_mapping = pickle.load(open(vocab_encoding_dict, \"rb\"))\n",
    "        self.embedding_net = EmbeddingNet4Nodes(load_from=node_embedding_net_load_from)\n",
    "        # self.embedding_net.model.summary()\n",
    "        self.cost_learner_net = torch.load(cost_learner_net_load_from)\n",
    "\n",
    "    def __call__(self, _query_plan: typing.Union[np.ndarray, QueryPlan, torch.Tensor] = None) -> float:\n",
    "        \"\"\"\n",
    "            对于任意的查询计划, 该类的一个实例可以给出查询代价的预测值\n",
    "        \"\"\"\n",
    "        embedded_vec = self.embed(_query_plan) if isinstance(_query_plan, QueryPlan) else _query_plan\n",
    "        _out = self.cost_learner_net(torch.tensor(embedded_vec, dtype=torch.float32).unsqueeze(0))\n",
    "        return _out.detach().numpy()[0][0]\n",
    "\n",
    "    @staticmethod\n",
    "    def get_node_list_of_query_plan(qp: QueryPlan):\n",
    "        def __callback(cur_node: QueryPlanNode, _list: list):\n",
    "            _list.append(cur_node.to_vector())\n",
    "\n",
    "        # # 1. 获取查询计划内所有被执行节点的描述\n",
    "        node_list = list()\n",
    "        qp.post_order(_callback=__callback, _list=node_list)\n",
    "        # # 在pycharm外运行 设置draw = False\n",
    "        qp.make_digraph(draw=False)\n",
    "        return node_list\n",
    "\n",
    "    def embed(self, qp: typing.Union[typing.List[typing.List[str]], QueryPlan], need_cost_label: bool = False):\n",
    "        node_list = self.get_node_list_of_query_plan(qp) if isinstance(qp, QueryPlan) else qp\n",
    "        # # 2. 做查询计划嵌入, 节点中的每一个词\n",
    "        plan_seq = Embedding.vectorize_sentences(list(map(lambda x: x[:-1], node_list)),\n",
    "                                                 self.vocab_encode_mapping)\n",
    "        # # 扩充\n",
    "        plan_seq = pad_sequences(plan_seq, padding=\"post\", dtype=np.float32,\n",
    "                                 maxlen=self.embedding_net.model.input_shape[1])\n",
    "        embedded_vector = self.embedding_net(plan_seq)\n",
    "        return embedded_vector if not need_cost_label else (embedded_vector, node_list[-1][-1])\n",
    "\n",
    "\n",
    "c = CostLearner(os.path.join(DATA_PATH_PKL, \"vocab_encode.pkl\"),\n",
    "                os.path.join(DATA_PATH_MODEL, \"embedding_all_nodes.h5\"),\n",
    "                os.path.join(DATA_PATH_MODEL, \"cost_model_9.model\"))"
   ],
   "metadata": {
    "collapsed": false
   }
  },
  {
   "cell_type": "code",
   "execution_count": 431,
   "outputs": [
    {
     "data": {
      "text/plain": "<src.query_plan.QueryPlan at 0x1ec8796a280>"
     },
     "execution_count": 431,
     "metadata": {},
     "output_type": "execute_result"
    }
   ],
   "source": [
    "query_plan_path = r\"C:\\Users\\QQ863\\Documents\\Projects\\PycharmProjects\\DeepO\\data\\plan\\5c\"\n",
    "query_plan = Embedding.load_from(_query_plan_path=query_plan_path)\n",
    "query_plan"
   ],
   "metadata": {
    "collapsed": false
   }
  },
  {
   "cell_type": "code",
   "execution_count": 455,
   "outputs": [
    {
     "data": {
      "text/plain": "{'mean': 0.9890974,\n 'std': 0.00039862338,\n 'lower_bound': 0.9867056761286221,\n 'upper_bound': 0.9914891566731967,\n 'diff': -0.010854090689087936,\n 'ans': False}"
     },
     "execution_count": 455,
     "metadata": {},
     "output_type": "execute_result"
    }
   ],
   "source": [
    "def predict_cost_and_get_confidence_intervals(query_plan: QueryPlan, n_sample=10, ci_multiplier=6):\n",
    "    \"\"\"\n",
    "        mean, std, diff, lower bound, upper bound, in_or_not\n",
    "    \"\"\"\n",
    "    embedded_vec, cost = c.embed(query_plan, True)\n",
    "    cost_norm = (5346925.973 - float(cost)) / 5346925.973\n",
    "    pred_test = np.array(list(map(lambda x: c(embedded_vec), range(n_sample))))\n",
    "    pred_test_mean = pred_test.mean()\n",
    "    pred_std = pred_test.std(ddof=2)\n",
    "    return dict(\n",
    "        mean=pred_test_mean,\n",
    "        std=pred_std,\n",
    "        lower_bound=pred_test_mean - (pred_std * ci_multiplier),\n",
    "        upper_bound=pred_test_mean + (pred_std * ci_multiplier),\n",
    "        diff=pred_test_mean - cost_norm,\n",
    "        ans=(pred_test_mean - (pred_std * ci_multiplier)) <= cost_norm <= (pred_test_mean + (pred_std * ci_multiplier))\n",
    "    )\n",
    "\n",
    "\n",
    "predict_cost_and_get_confidence_intervals(query_plan)"
   ],
   "metadata": {
    "collapsed": false
   }
  },
  {
   "cell_type": "code",
   "execution_count": 433,
   "outputs": [],
   "source": [
    "from src.config import DATA_PATH_PLANS_FOR_TRAIN\n",
    "\n",
    "ans = []\n",
    "qp_list = []\n",
    "for query_plan_path in os.listdir(DATA_PATH_PLANS_FOR_TRAIN):\n",
    "    full_name = os.path.join(DATA_PATH_PLANS_FOR_TRAIN, query_plan_path)\n",
    "    with open(full_name, \"r\", encoding=\"utf-8\") as f:\n",
    "        qp = Embedding.load_from(_query_plan_raw=f.read())\n",
    "        qp_list.append(qp)"
   ],
   "metadata": {
    "collapsed": false
   }
  },
  {
   "cell_type": "code",
   "execution_count": 434,
   "outputs": [
    {
     "name": "stdout",
     "output_type": "stream",
     "text": [
      "6 0.1504424778761062\n",
      "7 0.19469026548672566\n",
      "8 0.18584070796460178\n",
      "9 0.25663716814159293\n",
      "10 0.26548672566371684\n",
      "11 0.2831858407079646\n",
      "12 0.3805309734513274\n",
      "13 0.4424778761061947\n",
      "14 0.4336283185840708\n",
      "15 0.6017699115044248\n",
      "16 0.672566371681416\n",
      "17 0.6283185840707964\n",
      "18 0.8230088495575221\n",
      "19 0.7522123893805309\n",
      "20 0.8407079646017699\n",
      "21 0.8938053097345132\n",
      "22 0.8407079646017699\n",
      "23 0.8938053097345132\n",
      "24 0.9469026548672567\n",
      "25 0.9203539823008849\n",
      "26 0.9292035398230089\n",
      "27 0.9557522123893806\n",
      "28 0.9469026548672567\n",
      "29 0.9734513274336283\n"
     ]
    }
   ],
   "source": [
    "import tqdm\n",
    "\n",
    "for p in range(6, 30):\n",
    "    ans = list(map(lambda qp: predict_cost_and_get_confidence_intervals(qp, ci_multiplier=p)['ans'], qp_list))\n",
    "    print(p, len(list(filter(bool, ans))) / len(ans))"
   ],
   "metadata": {
    "collapsed": false
   }
  },
  {
   "cell_type": "code",
   "execution_count": null,
   "outputs": [],
   "source": [],
   "metadata": {
    "collapsed": false
   }
  }
 ],
 "metadata": {
  "kernelspec": {
   "display_name": "Python 3",
   "language": "python",
   "name": "python3"
  },
  "language_info": {
   "codemirror_mode": {
    "name": "ipython",
    "version": 2
   },
   "file_extension": ".py",
   "mimetype": "text/x-python",
   "name": "python",
   "nbconvert_exporter": "python",
   "pygments_lexer": "ipython2",
   "version": "2.7.6"
  }
 },
 "nbformat": 4,
 "nbformat_minor": 0
}

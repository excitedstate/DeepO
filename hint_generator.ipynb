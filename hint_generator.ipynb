{
 "cells": [
  {
   "cell_type": "code",
   "execution_count": 2,
   "metadata": {
    "collapsed": true
   },
   "outputs": [],
   "source": [
    "import itertools\n",
    "\n",
    "from src.config import DATA_PATH_LC_SQL_TRAIN_CSV\n",
    "import csv\n",
    "import os\n",
    "import numpy as np\n",
    "import copy\n",
    "from tqdm import tqdm\n",
    "\n",
    "# # make hints\n"
   ]
  },
  {
   "cell_type": "code",
   "execution_count": 3,
   "outputs": [
    {
     "name": "stdout",
     "output_type": "stream",
     "text": [
      "['title t,movie_info_idx mi_idx', 't.id=mi_idx.movie_id', 't.kind_id,=,7,mi_idx.info_type_id,>,99', '283812']\n"
     ]
    }
   ],
   "source": [
    "# # 首先是能根据train.csv获取SQL语句\n",
    "def load_data(file_name):\n",
    "    joins = []\n",
    "    predicates = []\n",
    "    tables = []\n",
    "\n",
    "    # Load queries\n",
    "    with open(file_name, 'r') as f:\n",
    "        data_raw = list(list(rec) for rec in csv.reader(f, delimiter='#'))\n",
    "        print(data_raw[0])\n",
    "        for row in data_raw:\n",
    "            tables.append(row[0].split(','))\n",
    "            joins.append(row[1].split(','))\n",
    "            predicates.append(row[2].split(','))\n",
    "    return tables, joins, predicates\n",
    "\n",
    "\n",
    "tables, joins, predicates = load_data(DATA_PATH_LC_SQL_TRAIN_CSV)"
   ],
   "metadata": {
    "collapsed": false
   }
  },
  {
   "cell_type": "code",
   "execution_count": 221,
   "outputs": [],
   "source": [
    "def cartesian(array):\n",
    "    \"\"\"\n",
    "        做笛卡尔基\n",
    "    \"\"\"\n",
    "    return list(itertools.product(*array))\n"
   ],
   "metadata": {
    "collapsed": false
   }
  },
  {
   "cell_type": "code",
   "execution_count": 223,
   "outputs": [
    {
     "data": {
      "text/plain": "['SeqScan(p) SeqScan(t)',\n 'SeqScan(p) IndexScan(t)',\n 'IndexScan(p) SeqScan(t)',\n 'IndexScan(p) IndexScan(t)']"
     },
     "execution_count": 223,
     "metadata": {},
     "output_type": "execute_result"
    }
   ],
   "source": [
    "def generate_scan_hints(tables):\n",
    "    \"\"\"\n",
    "        生成Scan Hint: Seq Scan 和 Index Scan\n",
    "        tables形如: [\"person p\", \"table t\"]\n",
    "    \"\"\"\n",
    "    scan_methods = [\"SeqScan({})\", \"IndexScan({})\"]\n",
    "    hint_candidate = []\n",
    "    for table in tables:\n",
    "        # # 取别名\n",
    "        table_alias = table.split(\" \")[1]\n",
    "        table_candidate = list(map(lambda method: method.format(table_alias), scan_methods))\n",
    "        hint_candidate.append(table_candidate)\n",
    "    # # hint_candidate:\n",
    "    #   [\n",
    "    #       ['SeqScan(p)', 'IndexScan(p)'],  // p的两种方法\n",
    "    #       ['SeqScan(t)', 'IndexScan(t)']   // t的两种方法\n",
    "    #   ]\n",
    "    candidates = list(map(\" \".join, cartesian(hint_candidate)))\n",
    "    return candidates\n",
    "\n",
    "\n",
    "generate_scan_hints([\"person p\", \"table t\"])"
   ],
   "metadata": {
    "collapsed": false
   }
  },
  {
   "cell_type": "code",
   "execution_count": 230,
   "outputs": [
    {
     "data": {
      "text/plain": "[['(', 'b', 'c', 'a', ')'], ['(', 'a', 'b', 'c', ')']]"
     },
     "execution_count": 230,
     "metadata": {},
     "output_type": "execute_result"
    }
   ],
   "source": [
    "def add_one_rel(cur, join_tables):\n",
    "    \"\"\"\n",
    "        添加一个关系\n",
    "    \"\"\"\n",
    "    extended_order = []\n",
    "    for table in join_tables:\n",
    "        if table not in cur:\n",
    "            extended_order.extend([\n",
    "                [\"(\", *cur, table, \")\"],\n",
    "                [\"(\", table, *cur, \")\"]\n",
    "            ])\n",
    "    return extended_order\n",
    "\n",
    "\n",
    "add_one_rel(['b', 'c'], ['a'])"
   ],
   "metadata": {
    "collapsed": false
   }
  },
  {
   "cell_type": "code",
   "execution_count": 232,
   "outputs": [
    {
     "data": {
      "text/plain": "(['Leading (( o ( t p ) ))',\n  'Leading (( ( p t ) o ))',\n  'Leading (( ( p o ) t ))',\n  'Leading (( t ( o p ) ))',\n  'Leading (( ( o t ) p ))',\n  'Leading (( ( o p ) t ))',\n  'Leading (( ( t p ) o ))',\n  'Leading (( ( t o ) p ))',\n  'Leading (( o ( p t ) ))',\n  'Leading (( p ( o t ) ))',\n  'Leading (( p ( t o ) ))',\n  'Leading (( t ( p o ) ))'],\n [['(', '(', 'p', 't', ')', 'o', ')'],\n  ['(', 'o', '(', 'p', 't', ')', ')'],\n  ['(', '(', 't', 'p', ')', 'o', ')'],\n  ['(', 'o', '(', 't', 'p', ')', ')'],\n  ['(', '(', 'p', 'o', ')', 't', ')'],\n  ['(', 't', '(', 'p', 'o', ')', ')'],\n  ['(', '(', 'o', 'p', ')', 't', ')'],\n  ['(', 't', '(', 'o', 'p', ')', ')'],\n  ['(', '(', 't', 'p', ')', 'o', ')'],\n  ['(', 'o', '(', 't', 'p', ')', ')'],\n  ['(', '(', 'p', 't', ')', 'o', ')'],\n  ['(', 'o', '(', 'p', 't', ')', ')'],\n  ['(', '(', 't', 'o', ')', 'p', ')'],\n  ['(', 'p', '(', 't', 'o', ')', ')'],\n  ['(', '(', 'o', 't', ')', 'p', ')'],\n  ['(', 'p', '(', 'o', 't', ')', ')'],\n  ['(', '(', 'o', 'p', ')', 't', ')'],\n  ['(', 't', '(', 'o', 'p', ')', ')'],\n  ['(', '(', 'p', 'o', ')', 't', ')'],\n  ['(', 't', '(', 'p', 'o', ')', ')'],\n  ['(', '(', 'o', 't', ')', 'p', ')'],\n  ['(', 'p', '(', 'o', 't', ')', ')'],\n  ['(', '(', 't', 'o', ')', 'p', ')'],\n  ['(', 'p', '(', 't', 'o', ')', ')']])"
     },
     "execution_count": 231,
     "metadata": {},
     "output_type": "execute_result"
    },
    {
     "data": {
      "text/plain": "(['Leading (( o ( t p ) ))',\n  'Leading (( ( p t ) o ))',\n  'Leading (( ( p o ) t ))',\n  'Leading (( t ( o p ) ))',\n  'Leading (( ( o t ) p ))',\n  'Leading (( ( o p ) t ))',\n  'Leading (( ( t p ) o ))',\n  'Leading (( ( t o ) p ))',\n  'Leading (( o ( p t ) ))',\n  'Leading (( p ( o t ) ))',\n  'Leading (( p ( t o ) ))',\n  'Leading (( t ( p o ) ))'],\n [['(', '(', 'p', 't', ')', 'o', ')'],\n  ['(', 'o', '(', 'p', 't', ')', ')'],\n  ['(', '(', 't', 'p', ')', 'o', ')'],\n  ['(', 'o', '(', 't', 'p', ')', ')'],\n  ['(', '(', 'p', 'o', ')', 't', ')'],\n  ['(', 't', '(', 'p', 'o', ')', ')'],\n  ['(', '(', 'o', 'p', ')', 't', ')'],\n  ['(', 't', '(', 'o', 'p', ')', ')'],\n  ['(', '(', 't', 'p', ')', 'o', ')'],\n  ['(', 'o', '(', 't', 'p', ')', ')'],\n  ['(', '(', 'p', 't', ')', 'o', ')'],\n  ['(', 'o', '(', 'p', 't', ')', ')'],\n  ['(', '(', 't', 'o', ')', 'p', ')'],\n  ['(', 'p', '(', 't', 'o', ')', ')'],\n  ['(', '(', 'o', 't', ')', 'p', ')'],\n  ['(', 'p', '(', 'o', 't', ')', ')'],\n  ['(', '(', 'o', 'p', ')', 't', ')'],\n  ['(', 't', '(', 'o', 'p', ')', ')'],\n  ['(', '(', 'p', 'o', ')', 't', ')'],\n  ['(', 't', '(', 'p', 'o', ')', ')'],\n  ['(', '(', 'o', 't', ')', 'p', ')'],\n  ['(', 'p', '(', 'o', 't', ')', ')'],\n  ['(', '(', 't', 'o', ')', 'p', ')'],\n  ['(', 'p', '(', 't', 'o', ')', ')']])"
     },
     "execution_count": 232,
     "metadata": {},
     "output_type": "execute_result"
    }
   ],
   "source": [
    "def generate_join_order_hints(tables):\n",
    "    \"\"\"\n",
    "        不改了\n",
    "    \"\"\"\n",
    "    # # 取表的别名\n",
    "    table_alias = [x.split(\" \")[1] for x in tables]\n",
    "    # #\n",
    "    str_order_length = 3 * len(tables) - 2\n",
    "    join_orders = []\n",
    "    starter = copy.deepcopy(table_alias)\n",
    "    stack = [[each] for each in starter]\n",
    "    while len(stack) != 0:\n",
    "        cur = stack.pop(0)\n",
    "        if len(cur) < str_order_length:\n",
    "            extended_orders = add_one_rel(cur, table_alias)\n",
    "            stack.extend(extended_orders)\n",
    "        else:\n",
    "            join_orders.append(cur)\n",
    "    str_join_orders = [\" \".join(each) for each in join_orders]\n",
    "    str_join_orders = set(str_join_orders)  # # 去重\n",
    "    # # 放表的顺序\n",
    "    join_orders_string = list(map(\"Leading ({})\".format, str_join_orders))\n",
    "    return join_orders_string, join_orders\n",
    "\n",
    "\n",
    "generate_join_order_hints([\"person p\", \"table t\", \"ok o\"])"
   ],
   "metadata": {
    "collapsed": false
   }
  },
  {
   "cell_type": "code",
   "execution_count": 217,
   "outputs": [],
   "source": [
    "def construct_sql(table, join, predicates, method=\"explain\"):\n",
    "    tables = \", \".join(table)\n",
    "    if join != [\"\"] and predicates != [\"\"]:\n",
    "        joins = \" and \".join(join)\n",
    "        sql = method + \" select count(*) from {} where {} and {}\"\n",
    "    elif join != [\"\"] and predicates == [\"\"]:\n",
    "        joins = \" and \".join(join)\n",
    "        sql = method + \" select count(*) from {} where {} {}\"\n",
    "    elif join == [\"\"] and predicates != [\"\"]:\n",
    "        joins = \"\"\n",
    "        sql = method + \" select count(*) from {} where {} {}\"\n",
    "    else:\n",
    "        joins = \"\"\n",
    "        sql = method + \" select count(*) from {} {} {}\"\n",
    "    l = []\n",
    "    for n in range(len(predicates) // 3):\n",
    "        l.append(' '.join(predicates[n * 3:n * 3 + 3]))\n",
    "    predicates = \" and \".join(l)\n",
    "    return sql.format(tables, joins, predicates) + \";\"\n",
    "\n"
   ],
   "metadata": {
    "collapsed": false
   }
  },
  {
   "cell_type": "code",
   "execution_count": 219,
   "outputs": [],
   "source": [
    "# %%\n",
    "def parse_order(order):\n",
    "    \"\"\"\n",
    "        就是获取一个排序\n",
    "    \"\"\"\n",
    "    left = 0\n",
    "    right = len(order) - 1\n",
    "    parsed_order = []\n",
    "    while left < right:\n",
    "        if order[left] == \"(\" and order[right] == \")\":\n",
    "            left += 1\n",
    "            right -= 1\n",
    "        elif order[left] == \"(\":\n",
    "            parsed_order.insert(0, order[right])\n",
    "            right -= 1\n",
    "        elif order[right] == \")\":\n",
    "            parsed_order.insert(0, order[left])\n",
    "            left += 1\n",
    "        else:\n",
    "            parsed_order.insert(0, order[right])\n",
    "            parsed_order.insert(0, order[left])\n",
    "            left += 1\n",
    "            right -= 1\n",
    "    return parsed_order\n",
    "\n",
    "\n",
    "def generate_join_method_hints_from_orders(join_order_hints, join_orders_list):\n",
    "    \"\"\"\n",
    "        join_order_hints: ['Leading (( t mi_idx ))', 'Leading (( mi_idx t ))']\n",
    "        join_orders_list: [\n",
    "            ['(', 't', 'mi_idx', ')'],\n",
    "            ['(', 'mi_idx', 't', ')'],\n",
    "            ['(', 'mi_idx', 't', ')'],\n",
    "            ['(', 't', 'mi_idx', ')']\n",
    "         ]\n",
    "\n",
    "    \"\"\"\n",
    "    join_methods = [\"NestLoop({})\", \"MergeJoin({})\", \"HashJoin({})\"]\n",
    "\n",
    "    join_hints = []\n",
    "\n",
    "    for order_hint, order in zip(join_order_hints, join_orders_list):\n",
    "        parsed_order = parse_order(order)\n",
    "        # # JOIN ORDER\n",
    "        join_order = []\n",
    "        for idx in range(2, len(parsed_order) + 1):\n",
    "            join_order.append(\" \".join(parsed_order[0:idx]))\n",
    "        # #\n",
    "        join_candidate = []\n",
    "        for level in join_order:\n",
    "            join_candidate.append([each.format(level) for each in join_methods])\n",
    "        candidates = list(map(lambda x: \" \".join(x), cartesian(join_candidate)))\n",
    "        join_hints.extend(list(map(lambda each: f\"{each} {order_hint}\", candidates)))\n",
    "    if not join_hints:\n",
    "        join_hints = [\"\"]\n",
    "    return join_hints\n"
   ],
   "metadata": {
    "collapsed": false
   }
  },
  {
   "cell_type": "code",
   "execution_count": 220,
   "outputs": [],
   "source": [
    "def generate_hint_queries(table, join, predicate, command=\"explain\"):\n",
    "    # # 获取scan_hints提示\n",
    "    scan_hints = generate_scan_hints(table)\n",
    "    # # 生成 Join Order的Hint\n",
    "    join_order_hints, join_orders = generate_join_order_hints(table)\n",
    "    join_hints = generate_join_method_hints_from_orders(join_order_hints, join_orders)\n",
    "\n",
    "    # # 生成sql\n",
    "    sql = construct_sql(table, join, predicate, command)\n",
    "    # # 通过笛卡尔积排列组合生成所有的hints\n",
    "    queries = list(map(lambda each: f\"/*+ {each} */ {sql}\", map(\" \".join, cartesian([scan_hints, join_hints]))))\n",
    "\n",
    "    return queries, sql\n"
   ],
   "metadata": {
    "collapsed": false
   }
  },
  {
   "cell_type": "code",
   "execution_count": 216,
   "outputs": [],
   "source": [
    "for idx, (table, join, predicate) in enumerate(zip(tables, joins, predicates)):\n",
    "    # query_idx = 9\n",
    "    queries_with_hint, sql = generate_hint_queries(table, join, predicate, command=\"explain analyse\")\n",
    "\n",
    "    if idx > 10: break"
   ],
   "metadata": {
    "collapsed": false
   }
  }
 ],
 "metadata": {
  "kernelspec": {
   "display_name": "Python 3",
   "language": "python",
   "name": "python3"
  },
  "language_info": {
   "codemirror_mode": {
    "name": "ipython",
    "version": 2
   },
   "file_extension": ".py",
   "mimetype": "text/x-python",
   "name": "python",
   "nbconvert_exporter": "python",
   "pygments_lexer": "ipython2",
   "version": "2.7.6"
  }
 },
 "nbformat": 4,
 "nbformat_minor": 0
}

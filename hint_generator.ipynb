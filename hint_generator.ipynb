{
 "cells": [
  {
   "cell_type": "code",
   "execution_count": 2,
   "metadata": {
    "collapsed": true
   },
   "outputs": [],
   "source": [
    "import itertools\n",
    "\n",
    "import networkx as nx\n",
    "from matplotlib import pyplot as plt\n",
    "\n",
    "from src.config import DATA_PATH_LC_SQL_TRAIN_CSV\n",
    "import csv\n",
    "import os\n",
    "import numpy as np\n",
    "import copy\n",
    "from tqdm import tqdm\n",
    "\n",
    "# # make hints\n"
   ]
  },
  {
   "cell_type": "code",
   "execution_count": 3,
   "outputs": [
    {
     "name": "stdout",
     "output_type": "stream",
     "text": [
      "['title t,movie_info_idx mi_idx', 't.id=mi_idx.movie_id', 't.kind_id,=,7,mi_idx.info_type_id,>,99', '283812']\n"
     ]
    }
   ],
   "source": [
    "# # 首先是能根据train.csv获取SQL语句\n",
    "def load_data(file_name):\n",
    "    joins = []\n",
    "    predicates = []\n",
    "    tables = []\n",
    "\n",
    "    # Load queries\n",
    "    with open(file_name, 'r') as f:\n",
    "        data_raw = list(list(rec) for rec in csv.reader(f, delimiter='#'))\n",
    "        print(data_raw[0])\n",
    "        for row in data_raw:\n",
    "            tables.append(row[0].split(','))\n",
    "            joins.append(row[1].split(','))\n",
    "            predicates.append(row[2].split(','))\n",
    "    return tables, joins, predicates\n",
    "\n",
    "\n",
    "tables, joins, predicates = load_data(DATA_PATH_LC_SQL_TRAIN_CSV)"
   ],
   "metadata": {
    "collapsed": false
   }
  },
  {
   "cell_type": "code",
   "execution_count": 221,
   "outputs": [],
   "source": [
    "def cartesian(array):\n",
    "    \"\"\"\n",
    "        做笛卡尔基\n",
    "    \"\"\"\n",
    "    return list(itertools.product(*array))\n"
   ],
   "metadata": {
    "collapsed": false
   }
  },
  {
   "cell_type": "code",
   "execution_count": 223,
   "outputs": [
    {
     "data": {
      "text/plain": "['SeqScan(p) SeqScan(t)',\n 'SeqScan(p) IndexScan(t)',\n 'IndexScan(p) SeqScan(t)',\n 'IndexScan(p) IndexScan(t)']"
     },
     "execution_count": 223,
     "metadata": {},
     "output_type": "execute_result"
    }
   ],
   "source": [
    "def generate_scan_hints(tables):\n",
    "    \"\"\"\n",
    "        生成Scan Hint: Seq Scan 和 Index Scan\n",
    "        tables形如: [\"person p\", \"table t\"]\n",
    "    \"\"\"\n",
    "    scan_methods = [\"SeqScan({})\", \"IndexScan({})\"]\n",
    "    hint_candidate = []\n",
    "    for table in tables:\n",
    "        # # 取别名\n",
    "        table_alias = table.split(\" \")[1]\n",
    "        table_candidate = list(map(lambda method: method.format(table_alias), scan_methods))\n",
    "        hint_candidate.append(table_candidate)\n",
    "    # # hint_candidate:\n",
    "    #   [\n",
    "    #       ['SeqScan(p)', 'IndexScan(p)'],  // p的两种方法\n",
    "    #       ['SeqScan(t)', 'IndexScan(t)']   // t的两种方法\n",
    "    #   ]\n",
    "    candidates = list(map(\" \".join, cartesian(hint_candidate)))\n",
    "    return candidates\n",
    "\n",
    "\n",
    "generate_scan_hints([\"person p\", \"table t\"])"
   ],
   "metadata": {
    "collapsed": false
   }
  },
  {
   "cell_type": "code",
   "execution_count": 230,
   "outputs": [
    {
     "data": {
      "text/plain": "[['(', 'b', 'c', 'a', ')'], ['(', 'a', 'b', 'c', ')']]"
     },
     "execution_count": 230,
     "metadata": {},
     "output_type": "execute_result"
    }
   ],
   "source": [
    "def add_one_rel(cur, join_tables):\n",
    "    \"\"\"\n",
    "        添加一个关系\n",
    "    \"\"\"\n",
    "    extended_order = []\n",
    "    for table in join_tables:\n",
    "        if table not in cur:\n",
    "            extended_order.extend([\n",
    "                [\"(\", *cur, table, \")\"],\n",
    "                [\"(\", table, *cur, \")\"]\n",
    "            ])\n",
    "    return extended_order\n",
    "\n",
    "\n",
    "add_one_rel(['b', 'c'], ['a'])"
   ],
   "metadata": {
    "collapsed": false
   }
  },
  {
   "cell_type": "code",
   "execution_count": 232,
   "outputs": [
    {
     "data": {
      "text/plain": "(['Leading (( o ( t p ) ))',\n  'Leading (( ( p t ) o ))',\n  'Leading (( ( p o ) t ))',\n  'Leading (( t ( o p ) ))',\n  'Leading (( ( o t ) p ))',\n  'Leading (( ( o p ) t ))',\n  'Leading (( ( t p ) o ))',\n  'Leading (( ( t o ) p ))',\n  'Leading (( o ( p t ) ))',\n  'Leading (( p ( o t ) ))',\n  'Leading (( p ( t o ) ))',\n  'Leading (( t ( p o ) ))'],\n [['(', '(', 'p', 't', ')', 'o', ')'],\n  ['(', 'o', '(', 'p', 't', ')', ')'],\n  ['(', '(', 't', 'p', ')', 'o', ')'],\n  ['(', 'o', '(', 't', 'p', ')', ')'],\n  ['(', '(', 'p', 'o', ')', 't', ')'],\n  ['(', 't', '(', 'p', 'o', ')', ')'],\n  ['(', '(', 'o', 'p', ')', 't', ')'],\n  ['(', 't', '(', 'o', 'p', ')', ')'],\n  ['(', '(', 't', 'p', ')', 'o', ')'],\n  ['(', 'o', '(', 't', 'p', ')', ')'],\n  ['(', '(', 'p', 't', ')', 'o', ')'],\n  ['(', 'o', '(', 'p', 't', ')', ')'],\n  ['(', '(', 't', 'o', ')', 'p', ')'],\n  ['(', 'p', '(', 't', 'o', ')', ')'],\n  ['(', '(', 'o', 't', ')', 'p', ')'],\n  ['(', 'p', '(', 'o', 't', ')', ')'],\n  ['(', '(', 'o', 'p', ')', 't', ')'],\n  ['(', 't', '(', 'o', 'p', ')', ')'],\n  ['(', '(', 'p', 'o', ')', 't', ')'],\n  ['(', 't', '(', 'p', 'o', ')', ')'],\n  ['(', '(', 'o', 't', ')', 'p', ')'],\n  ['(', 'p', '(', 'o', 't', ')', ')'],\n  ['(', '(', 't', 'o', ')', 'p', ')'],\n  ['(', 'p', '(', 't', 'o', ')', ')']])"
     },
     "execution_count": 231,
     "metadata": {},
     "output_type": "execute_result"
    },
    {
     "data": {
      "text/plain": "(['Leading (( o ( t p ) ))',\n  'Leading (( ( p t ) o ))',\n  'Leading (( ( p o ) t ))',\n  'Leading (( t ( o p ) ))',\n  'Leading (( ( o t ) p ))',\n  'Leading (( ( o p ) t ))',\n  'Leading (( ( t p ) o ))',\n  'Leading (( ( t o ) p ))',\n  'Leading (( o ( p t ) ))',\n  'Leading (( p ( o t ) ))',\n  'Leading (( p ( t o ) ))',\n  'Leading (( t ( p o ) ))'],\n [['(', '(', 'p', 't', ')', 'o', ')'],\n  ['(', 'o', '(', 'p', 't', ')', ')'],\n  ['(', '(', 't', 'p', ')', 'o', ')'],\n  ['(', 'o', '(', 't', 'p', ')', ')'],\n  ['(', '(', 'p', 'o', ')', 't', ')'],\n  ['(', 't', '(', 'p', 'o', ')', ')'],\n  ['(', '(', 'o', 'p', ')', 't', ')'],\n  ['(', 't', '(', 'o', 'p', ')', ')'],\n  ['(', '(', 't', 'p', ')', 'o', ')'],\n  ['(', 'o', '(', 't', 'p', ')', ')'],\n  ['(', '(', 'p', 't', ')', 'o', ')'],\n  ['(', 'o', '(', 'p', 't', ')', ')'],\n  ['(', '(', 't', 'o', ')', 'p', ')'],\n  ['(', 'p', '(', 't', 'o', ')', ')'],\n  ['(', '(', 'o', 't', ')', 'p', ')'],\n  ['(', 'p', '(', 'o', 't', ')', ')'],\n  ['(', '(', 'o', 'p', ')', 't', ')'],\n  ['(', 't', '(', 'o', 'p', ')', ')'],\n  ['(', '(', 'p', 'o', ')', 't', ')'],\n  ['(', 't', '(', 'p', 'o', ')', ')'],\n  ['(', '(', 'o', 't', ')', 'p', ')'],\n  ['(', 'p', '(', 'o', 't', ')', ')'],\n  ['(', '(', 't', 'o', ')', 'p', ')'],\n  ['(', 'p', '(', 't', 'o', ')', ')']])"
     },
     "execution_count": 232,
     "metadata": {},
     "output_type": "execute_result"
    }
   ],
   "source": [
    "def generate_join_order_hints(tables):\n",
    "    \"\"\"\n",
    "        不改了\n",
    "    \"\"\"\n",
    "    # # 取表的别名\n",
    "    table_alias = [x.split(\" \")[1] for x in tables]\n",
    "    # #\n",
    "    str_order_length = 3 * len(tables) - 2\n",
    "    join_orders = []\n",
    "    starter = copy.deepcopy(table_alias)\n",
    "    stack = [[each] for each in starter]\n",
    "    while len(stack) != 0:\n",
    "        cur = stack.pop(0)\n",
    "        if len(cur) < str_order_length:\n",
    "            extended_orders = add_one_rel(cur, table_alias)\n",
    "            stack.extend(extended_orders)\n",
    "        else:\n",
    "            join_orders.append(cur)\n",
    "    str_join_orders = [\" \".join(each) for each in join_orders]\n",
    "    str_join_orders = set(str_join_orders)  # # 去重\n",
    "    # # 放表的顺序\n",
    "    join_orders_string = list(map(\"Leading ({})\".format, str_join_orders))\n",
    "    return join_orders_string, join_orders\n",
    "\n",
    "\n",
    "generate_join_order_hints([\"person p\", \"table t\", \"ok o\"])"
   ],
   "metadata": {
    "collapsed": false
   }
  },
  {
   "cell_type": "code",
   "execution_count": 217,
   "outputs": [],
   "source": [
    "def construct_sql(table, join, predicates, method=\"explain\"):\n",
    "    tables = \", \".join(table)\n",
    "    if join != [\"\"] and predicates != [\"\"]:\n",
    "        joins = \" and \".join(join)\n",
    "        sql = method + \" select count(*) from {} where {} and {}\"\n",
    "    elif join != [\"\"] and predicates == [\"\"]:\n",
    "        joins = \" and \".join(join)\n",
    "        sql = method + \" select count(*) from {} where {} {}\"\n",
    "    elif join == [\"\"] and predicates != [\"\"]:\n",
    "        joins = \"\"\n",
    "        sql = method + \" select count(*) from {} where {} {}\"\n",
    "    else:\n",
    "        joins = \"\"\n",
    "        sql = method + \" select count(*) from {} {} {}\"\n",
    "    l = []\n",
    "    for n in range(len(predicates) // 3):\n",
    "        l.append(' '.join(predicates[n * 3:n * 3 + 3]))\n",
    "    predicates = \" and \".join(l)\n",
    "    return sql.format(tables, joins, predicates) + \";\"\n",
    "\n"
   ],
   "metadata": {
    "collapsed": false
   }
  },
  {
   "cell_type": "code",
   "execution_count": 219,
   "outputs": [],
   "source": [
    "# %%\n",
    "def parse_order(order):\n",
    "    \"\"\"\n",
    "        就是获取一个排序\n",
    "    \"\"\"\n",
    "    left = 0\n",
    "    right = len(order) - 1\n",
    "    parsed_order = []\n",
    "    while left < right:\n",
    "        if order[left] == \"(\" and order[right] == \")\":\n",
    "            left += 1\n",
    "            right -= 1\n",
    "        elif order[left] == \"(\":\n",
    "            parsed_order.insert(0, order[right])\n",
    "            right -= 1\n",
    "        elif order[right] == \")\":\n",
    "            parsed_order.insert(0, order[left])\n",
    "            left += 1\n",
    "        else:\n",
    "            parsed_order.insert(0, order[right])\n",
    "            parsed_order.insert(0, order[left])\n",
    "            left += 1\n",
    "            right -= 1\n",
    "    return parsed_order\n",
    "\n",
    "\n",
    "def generate_join_method_hints_from_orders(join_order_hints, join_orders_list):\n",
    "    \"\"\"\n",
    "        join_order_hints: ['Leading (( t mi_idx ))', 'Leading (( mi_idx t ))']\n",
    "        join_orders_list: [\n",
    "            ['(', 't', 'mi_idx', ')'],\n",
    "            ['(', 'mi_idx', 't', ')'],\n",
    "            ['(', 'mi_idx', 't', ')'],\n",
    "            ['(', 't', 'mi_idx', ')']\n",
    "         ]\n",
    "\n",
    "    \"\"\"\n",
    "    join_methods = [\"NestLoop({})\", \"MergeJoin({})\", \"HashJoin({})\"]\n",
    "\n",
    "    join_hints = []\n",
    "\n",
    "    for order_hint, order in zip(join_order_hints, join_orders_list):\n",
    "        parsed_order = parse_order(order)\n",
    "        # # JOIN ORDER\n",
    "        join_order = []\n",
    "        for idx in range(2, len(parsed_order) + 1):\n",
    "            join_order.append(\" \".join(parsed_order[0:idx]))\n",
    "        # #\n",
    "        join_candidate = []\n",
    "        for level in join_order:\n",
    "            join_candidate.append([each.format(level) for each in join_methods])\n",
    "        candidates = list(map(lambda x: \" \".join(x), cartesian(join_candidate)))\n",
    "        join_hints.extend(list(map(lambda each: f\"{each} {order_hint}\", candidates)))\n",
    "    if not join_hints:\n",
    "        join_hints = [\"\"]\n",
    "    return join_hints\n"
   ],
   "metadata": {
    "collapsed": false
   }
  },
  {
   "cell_type": "code",
   "execution_count": 220,
   "outputs": [],
   "source": [
    "def generate_hint_queries(table, join, predicate, command=\"explain\"):\n",
    "    # # 获取scan_hints提示\n",
    "    scan_hints = generate_scan_hints(table)\n",
    "    # # 生成 Join Order的Hint\n",
    "    join_order_hints, join_orders = generate_join_order_hints(table)\n",
    "    join_hints = generate_join_method_hints_from_orders(join_order_hints, join_orders)\n",
    "\n",
    "    # # 生成sql\n",
    "    sql = construct_sql(table, join, predicate, command)\n",
    "    # # 通过笛卡尔积排列组合生成所有的hints\n",
    "    queries = list(map(lambda each: f\"/*+ {each} */ {sql}\", map(\" \".join, cartesian([scan_hints, join_hints]))))\n",
    "\n",
    "    return queries, sql\n"
   ],
   "metadata": {
    "collapsed": false
   }
  },
  {
   "cell_type": "code",
   "execution_count": 216,
   "outputs": [],
   "source": [
    "for idx, (table, join, predicate) in enumerate(zip(tables, joins, predicates)):\n",
    "    # query_idx = 9\n",
    "    queries_with_hint, sql = generate_hint_queries(table, join, predicate, command=\"explain analyse\")\n",
    "\n",
    "    if idx > 10: break"
   ],
   "metadata": {
    "collapsed": false
   }
  },
  {
   "cell_type": "code",
   "execution_count": 1,
   "outputs": [],
   "source": [
    "sql = \"\"\"\n",
    "/*+ SeqScan(t) SeqScan(mi) SeqScan(mi_idx) MergeJoin(t mi_idx) MergeJoin(mi t mi_idx) Leading (( mi ( t mi_idx ) )) */\n",
    "EXPLAIN ANALYSE SELECT COUNT(*)\n",
    "FROM\n",
    "\ttitle t,\n",
    "\tmovie_info mi,\n",
    "\tmovie_info_idx mi_idx\n",
    "WHERE\n",
    "\tt.ID = mi.movie_id\n",
    "\tAND T.ID = mi_idx.movie_id\n",
    "\tAND mi.info_type_id > 16\n",
    "\tAND mi_idx.info_type_id = 100;\n",
    "\"\"\"\n",
    "\n",
    "from src.basic import PostgresDB\n",
    "from src.config import DB_LAB_VM_CONFIG\n",
    "db = PostgresDB(_config=DB_LAB_VM_CONFIG, _try_connect=True)\n",
    "\n",
    "res = db.execute(sql)"
   ],
   "metadata": {
    "collapsed": false
   }
  },
  {
   "cell_type": "code",
   "execution_count": 45,
   "outputs": [
    {
     "name": "stdout",
     "output_type": "stream",
     "text": [
      "Finalize Aggregate  (cost=1361138.60..1361138.61 rows=1 width=8) (actual time=142875.672..142876.005 rows=1 loops=1)\n",
      "  ->  Gather  (cost=1361138.38..1361138.59 rows=2 width=8) (actual time=142875.527..142875.883 rows=3 loops=1)\n",
      "        Workers Planned: 2\n",
      "        Workers Launched: 2\n",
      "        ->  Partial Aggregate  (cost=1360138.38..1360138.39 rows=1 width=8) (actual time=141890.377..141890.534 rows=1 loops=3)\n",
      "              ->  Merge Join  (cost=1338932.46..1360138.38 rows=3 width=0) (actual time=141890.313..141890.448 rows=0 loops=3)\n",
      "                    Merge Cond: (mi.movie_id = t.id)\n",
      "                    ->  Sort  (cost=810124.08..816476.72 rows=2541056 width=4) (actual time=64608.136..64608.170 rows=1 loops=3)\n",
      "                          Sort Key: mi.movie_id\n",
      "                          Sort Method: external merge  Disk: 34960kB\n",
      "                          Worker 0:  Sort Method: external merge  Disk: 36048kB\n",
      "                          Worker 1:  Sort Method: external merge  Disk: 36632kB\n",
      "                          ->  Parallel Seq Scan on movie_info mi  (cost=0.00..470311.88 rows=2541056 width=4) (actual time=504.370..34888.427 rows=2613207 loops=3)\n",
      "                                Filter: (info_type_id > 16)\n",
      "                                Rows Removed by Filter: 7311777\n",
      "                    ->  Materialize  (cost=528674.36..545174.43 rows=4 width=8) (actual time=77279.122..77279.201 rows=0 loops=3)\n",
      "                          ->  Merge Join  (cost=528674.36..545174.42 rows=4 width=8) (actual time=77279.100..77279.164 rows=0 loops=3)\n",
      "                                Merge Cond: (t.id = mi_idx.movie_id)\n",
      "                                ->  Sort  (cost=528654.57..536904.57 rows=3300000 width=4) (actual time=77278.958..77278.979 rows=1 loops=3)\n",
      "                                      Sort Key: t.id\n",
      "                                      Sort Method: external merge  Disk: 45288kB\n",
      "                                      Worker 0:  Sort Method: external merge  Disk: 45288kB\n",
      "                                      Worker 1:  Sort Method: external merge  Disk: 45288kB\n",
      "                                      ->  Seq Scan on title t  (cost=0.00..81126.00 rows=3300000 width=4) (actual time=1.065..38904.126 rows=3300000 loops=3)\n",
      "                                ->  Sort  (cost=19.79..19.80 rows=4 width=4) (actual time=0.063..0.085 rows=0 loops=3)\n",
      "                                      Sort Key: mi_idx.movie_id\n",
      "                                      Sort Method: quicksort  Memory: 25kB\n",
      "                                      Worker 0:  Sort Method: quicksort  Memory: 25kB\n",
      "                                      Worker 1:  Sort Method: quicksort  Memory: 25kB\n",
      "                                      ->  Seq Scan on movie_info_idx mi_idx  (cost=0.00..19.75 rows=4 width=4) (actual time=0.039..0.046 rows=0 loops=3)\n",
      "                                            Filter: (info_type_id = 100)\n",
      "Planning Time: 2.405 ms\n",
      "JIT:\n",
      "  Functions: 74\n",
      "  Options: Inlining true, Optimization true, Expressions true, Deforming true\n",
      "  Timing: Generation 5.976 ms, Inlining 948.526 ms, Optimization 398.418 ms, Emission 153.482 ms, Total 1506.402 ms\n",
      "Execution Time: 142938.929 ms\n"
     ]
    }
   ],
   "source": [
    "query_plan_raw = '\\n'.join(list(zip(*res))[0])\n",
    "print(query_plan_raw)"
   ],
   "metadata": {
    "collapsed": false
   }
  },
  {
   "cell_type": "code",
   "execution_count": 18,
   "outputs": [
    {
     "data": {
      "text/plain": "<Figure size 640x480 with 1 Axes>",
      "image/png": "[encoded data removed]"
     },
     "metadata": {},
     "output_type": "display_data"
    },
    {
     "data": {
      "text/plain": "<Figure size 640x480 with 0 Axes>"
     },
     "metadata": {},
     "output_type": "display_data"
    }
   ],
   "source": [
    "from src.query_plan import QueryPlan\n",
    "import networkx as nx\n",
    "import matplotlib.pyplot as plt\n",
    "qp = QueryPlan(query_plan_raw)\n",
    "def make_digraph(self, draw=True):\n",
    "    g = nx.DiGraph()\n",
    "    for n_id, node in self.id_node.items():\n",
    "        g.add_node(n_id, intro=node.node_ir(), subset=node.node_type)\n",
    "    for _, node in self.id_node.items():\n",
    "        if node.left is not None:\n",
    "            g.add_edge(node.id, node.left.id)\n",
    "        if node.right is not None:\n",
    "            g.add_edge(node.id, node.right.id)\n",
    "    if draw:\n",
    "        plt.title('query plan structure')\n",
    "        pos = nx.drawing.nx_agraph.graphviz_layout(g, prog='dot')\n",
    "        nx.draw(g, pos, with_labels=True, arrows=True, node_size=500)\n",
    "        plt.show()\n",
    "        plt.savefig('nx_test.png')\n",
    "make_digraph(qp)"
   ],
   "metadata": {
    "collapsed": false
   }
  },
  {
   "cell_type": "code",
   "execution_count": 44,
   "outputs": [
    {
     "name": "stdout",
     "output_type": "stream",
     "text": [
      "id: 06, parent: 05, layer: 5, vector: ['LEAF_NODE', 'parallel', 'SeqScan', 'movie_info', 'mi', 'filter', 'SIMPLE_COMPARE', 'info_type_id', '>', '*', 'condition', '34888.427']\n",
      "id: 05, parent: 04, layer: 4, vector: ['MIDDLE_NODE', 'Sort', 'mi.movie_id', 'filter', 'condition', '64608.17']\n",
      "id: 10, parent: 09, layer: 7, vector: ['LEAF_NODE', 'SeqScan', 'title', 't', 'filter', 'condition', '38904.126']\n",
      "id: 09, parent: 08, layer: 6, vector: ['MIDDLE_NODE', 'Sort', '.id', 'filter', 'condition', '77278.979']\n",
      "id: 12, parent: 11, layer: 7, vector: ['LEAF_NODE', 'SeqScan', 'movie_info_idx', 'mi_idx', 'filter', 'SIMPLE_COMPARE', 'info_type_id', '=', '*', 'condition', '0.046']\n",
      "id: 11, parent: 08, layer: 6, vector: ['MIDDLE_NODE', 'Sort', 'mi_idx.movie_id', 'filter', 'condition', '0.085']\n",
      "id: 08, parent: 07, layer: 5, vector: ['MIDDLE_NODE', 'MergeJoin', 'filter', 'condition', 'SIMPLE_COMPARE', 't.id', '=', '*', '77279.164']\n",
      "id: 07, parent: 04, layer: 4, vector: ['MIDDLE_NODE', 'Materialize', 'filter', 'condition', '77279.201']\n",
      "id: 04, parent: 03, layer: 3, vector: ['MIDDLE_NODE', 'MergeJoin', 'filter', 'condition', 'SIMPLE_COMPARE', 'mi.movie_id', '=', '*', '141890.448']\n",
      "id: 03, parent: 02, layer: 2, vector: ['MIDDLE_NODE', 'PartialAggregate', 'filter', 'condition', '141890.534']\n",
      "id: 02, parent: 01, layer: 1, vector: ['MIDDLE_NODE', 'Gather', 'filter', 'condition', '142875.883']\n",
      "id: 01, parent: 00, layer: 0, vector: ['ROOT_NODE', 'FinalizeAggregate', 'filter', 'condition', '142876.005']\n"
     ]
    }
   ],
   "source": [
    "from src.query_plan import QueryPlanNode\n",
    "\n",
    "\n",
    "def callback(cur_node: QueryPlanNode):\n",
    "    print(f\"id: {cur_node.id:02d}, parent: {cur_node.parent.id if cur_node.parent is not None else 0:02d}, layer: {cur_node.layer}, vector: {list(cur_node.to_vector())}\")\n",
    "\n",
    "qp.post_order(_callback=callback)"
   ],
   "metadata": {
    "collapsed": false
   }
  },
  {
   "cell_type": "markdown",
   "source": [],
   "metadata": {
    "collapsed": false
   }
  },
  {
   "cell_type": "code",
   "execution_count": 46,
   "outputs": [],
   "source": [
    "from src.cost_learner import CostLearner\n",
    "\n",
    "c = CostLearner.default_factory()"
   ],
   "metadata": {
    "collapsed": false
   }
  },
  {
   "cell_type": "code",
   "execution_count": 47,
   "outputs": [
    {
     "data": {
      "text/plain": "CostLearnerNet(\n  (lstm): BayesianLSTM(\n    (weight_ih_sampler): TrainableRandomDistribution()\n    (weight_hh_sampler): TrainableRandomDistribution()\n    (bias_sampler): TrainableRandomDistribution()\n    (weight_ih_prior_dist): PriorWeightDistribution()\n    (weight_hh_prior_dist): PriorWeightDistribution()\n    (bias_prior_dist): PriorWeightDistribution()\n  )\n  (relu_1): ReLU()\n  (linear_1): Linear(in_features=32, out_features=16, bias=True)\n  (relu_2): ReLU()\n  (drop_out): Dropout(p=0.2, inplace=False)\n  (output_layer): Linear(in_features=16, out_features=1, bias=True)\n)"
     },
     "execution_count": 47,
     "metadata": {},
     "output_type": "execute_result"
    }
   ],
   "source": [
    "c.cost_learner_net"
   ],
   "metadata": {
    "collapsed": false
   }
  },
  {
   "cell_type": "code",
   "execution_count": 50,
   "outputs": [
    {
     "name": "stdout",
     "output_type": "stream",
     "text": [
      "\n",
      "/*+ SeqScan(t) SeqScan(mk) HashJoin(t mk) Leading (( mk t )) */\n",
      "explain select count(*) from title t, movie_keyword mk where t.id=mk.movie_id and mk.keyword_id = 20450;\n",
      "\n",
      "Finalize Aggregate  (cost=159457.00..159457.01 rows=1 width=8)\n",
      "  ->  Gather  (cost=159456.79..159457.00 rows=2 width=8)\n",
      "        Workers Planned: 2\n",
      "        ->  Partial Aggregate  (cost=158456.79..158456.80 rows=1 width=8)\n",
      "              ->  Parallel Hash Join  (cost=79063.50..158456.43 rows=144 width=0)\n",
      "                    Hash Cond: (mk.movie_id = t.id)\n",
      "                    ->  Parallel Seq Scan on movie_keyword mk  (cost=0.00..79391.79 rows=144 width=4)\n",
      "                          Filter: (keyword_id = 20450)\n",
      "                    ->  Parallel Hash  (cost=61876.00..61876.00 rows=1375000 width=4)\n",
      "                          ->  Parallel Seq Scan on title t  (cost=0.00..61876.00 rows=1375000 width=4)\n",
      "JIT:\n",
      "  Functions: 15\n",
      "  Options: Inlining false, Optimization false, Expressions true, Deforming true\n",
      "\n"
     ]
    }
   ],
   "source": [
    "raw = \"\"\"\n",
    "/*+ SeqScan(t) SeqScan(mk) HashJoin(t mk) Leading (( mk t )) */\n",
    "explain select count(*) from title t, movie_keyword mk where t.id=mk.movie_id and mk.keyword_id = 20450;\n",
    "\n",
    "Finalize Aggregate  (cost=159457.00..159457.01 rows=1 width=8)\n",
    "  ->  Gather  (cost=159456.79..159457.00 rows=2 width=8)\n",
    "        Workers Planned: 2\n",
    "        ->  Partial Aggregate  (cost=158456.79..158456.80 rows=1 width=8)\n",
    "              ->  Parallel Hash Join  (cost=79063.50..158456.43 rows=144 width=0)\n",
    "                    Hash Cond: (mk.movie_id = t.id)\n",
    "                    ->  Parallel Seq Scan on movie_keyword mk  (cost=0.00..79391.79 rows=144 width=4)\n",
    "                          Filter: (keyword_id = 20450)\n",
    "                    ->  Parallel Hash  (cost=61876.00..61876.00 rows=1375000 width=4)\n",
    "                          ->  Parallel Seq Scan on title t  (cost=0.00..61876.00 rows=1375000 width=4)\n",
    "JIT:\n",
    "  Functions: 15\n",
    "  Options: Inlining false, Optimization false, Expressions true, Deforming true\n",
    "\"\"\"\n",
    "print(raw)"
   ],
   "metadata": {
    "collapsed": false
   }
  },
  {
   "cell_type": "code",
   "execution_count": 52,
   "outputs": [
    {
     "data": {
      "text/plain": "['t', 'mk']"
     },
     "execution_count": 52,
     "metadata": {},
     "output_type": "execute_result"
    }
   ],
   "source": [
    "from src.extract_table_names import extract_tables\n",
    "sql = \"\"\"\n",
    "select count(*) from title t, movie_keyword mk where t.id=mk.movie_id and mk.keyword_id = 20450;\n",
    "\"\"\"\n",
    "extract_tables(sql)"
   ],
   "metadata": {
    "collapsed": false
   }
  },
  {
   "cell_type": "code",
   "execution_count": 56,
   "outputs": [
    {
     "name": "stdout",
     "output_type": "stream",
     "text": [
      "\n",
      "/*+ SeqScan(t) SeqScan(mk) NestLoop(t mk) Leading (( mk t )) */ explain select count(*) from title t, movie_keyword mk where t.id=mk.movie_id and mk.keyword_id = 20450;\n",
      "/*+ SeqScan(t) SeqScan(mk) MergeJoin(t mk) Leading (( mk t )) */ explain select count(*) from title t, movie_keyword mk where t.id=mk.movie_id and mk.keyword_id = 20450;\n",
      "/*+ SeqScan(t) SeqScan(mk) HashJoin(t mk) Leading (( mk t )) */ explain select count(*) from title t, movie_keyword mk where t.id=mk.movie_id and mk.keyword_id = 20450;\n",
      "/*+ SeqScan(t) SeqScan(mk) NestLoop(mk t) Leading (( t mk )) */ explain select count(*) from title t, movie_keyword mk where t.id=mk.movie_id and mk.keyword_id = 20450;\n",
      "/*+ SeqScan(t) SeqScan(mk) MergeJoin(mk t) Leading (( t mk )) */ explain select count(*) from title t, movie_keyword mk where t.id=mk.movie_id and mk.keyword_id = 20450;\n",
      "/*+ SeqScan(t) SeqScan(mk) HashJoin(mk t) Leading (( t mk )) */ explain select count(*) from title t, movie_keyword mk where t.id=mk.movie_id and mk.keyword_id = 20450;\n",
      "/*+ SeqScan(t) IndexScan(mk) NestLoop(t mk) Leading (( mk t )) */ explain select count(*) from title t, movie_keyword mk where t.id=mk.movie_id and mk.keyword_id = 20450;\n",
      "/*+ SeqScan(t) IndexScan(mk) MergeJoin(t mk) Leading (( mk t )) */ explain select count(*) from title t, movie_keyword mk where t.id=mk.movie_id and mk.keyword_id = 20450;\n",
      "/*+ SeqScan(t) IndexScan(mk) HashJoin(t mk) Leading (( mk t )) */ explain select count(*) from title t, movie_keyword mk where t.id=mk.movie_id and mk.keyword_id = 20450;\n",
      "/*+ SeqScan(t) IndexScan(mk) NestLoop(mk t) Leading (( t mk )) */ explain select count(*) from title t, movie_keyword mk where t.id=mk.movie_id and mk.keyword_id = 20450;\n",
      "/*+ SeqScan(t) IndexScan(mk) MergeJoin(mk t) Leading (( t mk )) */ explain select count(*) from title t, movie_keyword mk where t.id=mk.movie_id and mk.keyword_id = 20450;\n",
      "/*+ SeqScan(t) IndexScan(mk) HashJoin(mk t) Leading (( t mk )) */ explain select count(*) from title t, movie_keyword mk where t.id=mk.movie_id and mk.keyword_id = 20450;\n",
      "/*+ SeqScan(t) BitmapScan(mk) NestLoop(t mk) Leading (( mk t )) */ explain select count(*) from title t, movie_keyword mk where t.id=mk.movie_id and mk.keyword_id = 20450;\n",
      "/*+ SeqScan(t) BitmapScan(mk) MergeJoin(t mk) Leading (( mk t )) */ explain select count(*) from title t, movie_keyword mk where t.id=mk.movie_id and mk.keyword_id = 20450;\n",
      "/*+ SeqScan(t) BitmapScan(mk) HashJoin(t mk) Leading (( mk t )) */ explain select count(*) from title t, movie_keyword mk where t.id=mk.movie_id and mk.keyword_id = 20450;\n",
      "/*+ SeqScan(t) BitmapScan(mk) NestLoop(mk t) Leading (( t mk )) */ explain select count(*) from title t, movie_keyword mk where t.id=mk.movie_id and mk.keyword_id = 20450;\n",
      "/*+ SeqScan(t) BitmapScan(mk) MergeJoin(mk t) Leading (( t mk )) */ explain select count(*) from title t, movie_keyword mk where t.id=mk.movie_id and mk.keyword_id = 20450;\n",
      "/*+ SeqScan(t) BitmapScan(mk) HashJoin(mk t) Leading (( t mk )) */ explain select count(*) from title t, movie_keyword mk where t.id=mk.movie_id and mk.keyword_id = 20450;\n",
      "/*+ IndexScan(t) SeqScan(mk) NestLoop(t mk) Leading (( mk t )) */ explain select count(*) from title t, movie_keyword mk where t.id=mk.movie_id and mk.keyword_id = 20450;\n",
      "/*+ IndexScan(t) SeqScan(mk) MergeJoin(t mk) Leading (( mk t )) */ explain select count(*) from title t, movie_keyword mk where t.id=mk.movie_id and mk.keyword_id = 20450;\n",
      "/*+ IndexScan(t) SeqScan(mk) HashJoin(t mk) Leading (( mk t )) */ explain select count(*) from title t, movie_keyword mk where t.id=mk.movie_id and mk.keyword_id = 20450;\n",
      "/*+ IndexScan(t) SeqScan(mk) NestLoop(mk t) Leading (( t mk )) */ explain select count(*) from title t, movie_keyword mk where t.id=mk.movie_id and mk.keyword_id = 20450;\n",
      "/*+ IndexScan(t) SeqScan(mk) MergeJoin(mk t) Leading (( t mk )) */ explain select count(*) from title t, movie_keyword mk where t.id=mk.movie_id and mk.keyword_id = 20450;\n",
      "/*+ IndexScan(t) SeqScan(mk) HashJoin(mk t) Leading (( t mk )) */ explain select count(*) from title t, movie_keyword mk where t.id=mk.movie_id and mk.keyword_id = 20450;\n",
      "/*+ IndexScan(t) IndexScan(mk) NestLoop(t mk) Leading (( mk t )) */ explain select count(*) from title t, movie_keyword mk where t.id=mk.movie_id and mk.keyword_id = 20450;\n",
      "/*+ IndexScan(t) IndexScan(mk) MergeJoin(t mk) Leading (( mk t )) */ explain select count(*) from title t, movie_keyword mk where t.id=mk.movie_id and mk.keyword_id = 20450;\n",
      "/*+ IndexScan(t) IndexScan(mk) HashJoin(t mk) Leading (( mk t )) */ explain select count(*) from title t, movie_keyword mk where t.id=mk.movie_id and mk.keyword_id = 20450;\n",
      "/*+ IndexScan(t) IndexScan(mk) NestLoop(mk t) Leading (( t mk )) */ explain select count(*) from title t, movie_keyword mk where t.id=mk.movie_id and mk.keyword_id = 20450;\n",
      "/*+ IndexScan(t) IndexScan(mk) MergeJoin(mk t) Leading (( t mk )) */ explain select count(*) from title t, movie_keyword mk where t.id=mk.movie_id and mk.keyword_id = 20450;\n",
      "/*+ IndexScan(t) IndexScan(mk) HashJoin(mk t) Leading (( t mk )) */ explain select count(*) from title t, movie_keyword mk where t.id=mk.movie_id and mk.keyword_id = 20450;\n",
      "/*+ IndexScan(t) BitmapScan(mk) NestLoop(t mk) Leading (( mk t )) */ explain select count(*) from title t, movie_keyword mk where t.id=mk.movie_id and mk.keyword_id = 20450;\n",
      "/*+ IndexScan(t) BitmapScan(mk) MergeJoin(t mk) Leading (( mk t )) */ explain select count(*) from title t, movie_keyword mk where t.id=mk.movie_id and mk.keyword_id = 20450;\n",
      "/*+ IndexScan(t) BitmapScan(mk) HashJoin(t mk) Leading (( mk t )) */ explain select count(*) from title t, movie_keyword mk where t.id=mk.movie_id and mk.keyword_id = 20450;\n",
      "/*+ IndexScan(t) BitmapScan(mk) NestLoop(mk t) Leading (( t mk )) */ explain select count(*) from title t, movie_keyword mk where t.id=mk.movie_id and mk.keyword_id = 20450;\n",
      "/*+ IndexScan(t) BitmapScan(mk) MergeJoin(mk t) Leading (( t mk )) */ explain select count(*) from title t, movie_keyword mk where t.id=mk.movie_id and mk.keyword_id = 20450;\n",
      "/*+ IndexScan(t) BitmapScan(mk) HashJoin(mk t) Leading (( t mk )) */ explain select count(*) from title t, movie_keyword mk where t.id=mk.movie_id and mk.keyword_id = 20450;\n",
      "/*+ BitmapScan(t) SeqScan(mk) NestLoop(t mk) Leading (( mk t )) */ explain select count(*) from title t, movie_keyword mk where t.id=mk.movie_id and mk.keyword_id = 20450;\n",
      "/*+ BitmapScan(t) SeqScan(mk) MergeJoin(t mk) Leading (( mk t )) */ explain select count(*) from title t, movie_keyword mk where t.id=mk.movie_id and mk.keyword_id = 20450;\n",
      "/*+ BitmapScan(t) SeqScan(mk) HashJoin(t mk) Leading (( mk t )) */ explain select count(*) from title t, movie_keyword mk where t.id=mk.movie_id and mk.keyword_id = 20450;\n",
      "/*+ BitmapScan(t) SeqScan(mk) NestLoop(mk t) Leading (( t mk )) */ explain select count(*) from title t, movie_keyword mk where t.id=mk.movie_id and mk.keyword_id = 20450;\n",
      "/*+ BitmapScan(t) SeqScan(mk) MergeJoin(mk t) Leading (( t mk )) */ explain select count(*) from title t, movie_keyword mk where t.id=mk.movie_id and mk.keyword_id = 20450;\n",
      "/*+ BitmapScan(t) SeqScan(mk) HashJoin(mk t) Leading (( t mk )) */ explain select count(*) from title t, movie_keyword mk where t.id=mk.movie_id and mk.keyword_id = 20450;\n",
      "/*+ BitmapScan(t) IndexScan(mk) NestLoop(t mk) Leading (( mk t )) */ explain select count(*) from title t, movie_keyword mk where t.id=mk.movie_id and mk.keyword_id = 20450;\n",
      "/*+ BitmapScan(t) IndexScan(mk) MergeJoin(t mk) Leading (( mk t )) */ explain select count(*) from title t, movie_keyword mk where t.id=mk.movie_id and mk.keyword_id = 20450;\n",
      "/*+ BitmapScan(t) IndexScan(mk) HashJoin(t mk) Leading (( mk t )) */ explain select count(*) from title t, movie_keyword mk where t.id=mk.movie_id and mk.keyword_id = 20450;\n",
      "/*+ BitmapScan(t) IndexScan(mk) NestLoop(mk t) Leading (( t mk )) */ explain select count(*) from title t, movie_keyword mk where t.id=mk.movie_id and mk.keyword_id = 20450;\n",
      "/*+ BitmapScan(t) IndexScan(mk) MergeJoin(mk t) Leading (( t mk )) */ explain select count(*) from title t, movie_keyword mk where t.id=mk.movie_id and mk.keyword_id = 20450;\n",
      "/*+ BitmapScan(t) IndexScan(mk) HashJoin(mk t) Leading (( t mk )) */ explain select count(*) from title t, movie_keyword mk where t.id=mk.movie_id and mk.keyword_id = 20450;\n",
      "/*+ BitmapScan(t) BitmapScan(mk) NestLoop(t mk) Leading (( mk t )) */ explain select count(*) from title t, movie_keyword mk where t.id=mk.movie_id and mk.keyword_id = 20450;\n",
      "/*+ BitmapScan(t) BitmapScan(mk) MergeJoin(t mk) Leading (( mk t )) */ explain select count(*) from title t, movie_keyword mk where t.id=mk.movie_id and mk.keyword_id = 20450;\n",
      "/*+ BitmapScan(t) BitmapScan(mk) HashJoin(t mk) Leading (( mk t )) */ explain select count(*) from title t, movie_keyword mk where t.id=mk.movie_id and mk.keyword_id = 20450;\n",
      "/*+ BitmapScan(t) BitmapScan(mk) NestLoop(mk t) Leading (( t mk )) */ explain select count(*) from title t, movie_keyword mk where t.id=mk.movie_id and mk.keyword_id = 20450;\n",
      "/*+ BitmapScan(t) BitmapScan(mk) MergeJoin(mk t) Leading (( t mk )) */ explain select count(*) from title t, movie_keyword mk where t.id=mk.movie_id and mk.keyword_id = 20450;\n",
      "/*+ BitmapScan(t) BitmapScan(mk) HashJoin(mk t) Leading (( t mk )) */ explain select count(*) from title t, movie_keyword mk where t.id=mk.movie_id and mk.keyword_id = 20450;\n",
      "\n"
     ]
    }
   ],
   "source": [
    "b = \"\"\"\n",
    "/*+ SeqScan(t) SeqScan(mk) NestLoop(t mk) Leading (( mk t )) */ explain select count(*) from title t, movie_keyword mk where t.id=mk.movie_id and mk.keyword_id = 20450;\n",
    "/*+ SeqScan(t) SeqScan(mk) MergeJoin(t mk) Leading (( mk t )) */ explain select count(*) from title t, movie_keyword mk where t.id=mk.movie_id and mk.keyword_id = 20450;\n",
    "/*+ SeqScan(t) SeqScan(mk) HashJoin(t mk) Leading (( mk t )) */ explain select count(*) from title t, movie_keyword mk where t.id=mk.movie_id and mk.keyword_id = 20450;\n",
    "/*+ SeqScan(t) SeqScan(mk) NestLoop(mk t) Leading (( t mk )) */ explain select count(*) from title t, movie_keyword mk where t.id=mk.movie_id and mk.keyword_id = 20450;\n",
    "/*+ SeqScan(t) SeqScan(mk) MergeJoin(mk t) Leading (( t mk )) */ explain select count(*) from title t, movie_keyword mk where t.id=mk.movie_id and mk.keyword_id = 20450;\n",
    "/*+ SeqScan(t) SeqScan(mk) HashJoin(mk t) Leading (( t mk )) */ explain select count(*) from title t, movie_keyword mk where t.id=mk.movie_id and mk.keyword_id = 20450;\n",
    "/*+ SeqScan(t) IndexScan(mk) NestLoop(t mk) Leading (( mk t )) */ explain select count(*) from title t, movie_keyword mk where t.id=mk.movie_id and mk.keyword_id = 20450;\n",
    "/*+ SeqScan(t) IndexScan(mk) MergeJoin(t mk) Leading (( mk t )) */ explain select count(*) from title t, movie_keyword mk where t.id=mk.movie_id and mk.keyword_id = 20450;\n",
    "/*+ SeqScan(t) IndexScan(mk) HashJoin(t mk) Leading (( mk t )) */ explain select count(*) from title t, movie_keyword mk where t.id=mk.movie_id and mk.keyword_id = 20450;\n",
    "/*+ SeqScan(t) IndexScan(mk) NestLoop(mk t) Leading (( t mk )) */ explain select count(*) from title t, movie_keyword mk where t.id=mk.movie_id and mk.keyword_id = 20450;\n",
    "/*+ SeqScan(t) IndexScan(mk) MergeJoin(mk t) Leading (( t mk )) */ explain select count(*) from title t, movie_keyword mk where t.id=mk.movie_id and mk.keyword_id = 20450;\n",
    "/*+ SeqScan(t) IndexScan(mk) HashJoin(mk t) Leading (( t mk )) */ explain select count(*) from title t, movie_keyword mk where t.id=mk.movie_id and mk.keyword_id = 20450;\n",
    "/*+ SeqScan(t) BitmapScan(mk) NestLoop(t mk) Leading (( mk t )) */ explain select count(*) from title t, movie_keyword mk where t.id=mk.movie_id and mk.keyword_id = 20450;\n",
    "/*+ SeqScan(t) BitmapScan(mk) MergeJoin(t mk) Leading (( mk t )) */ explain select count(*) from title t, movie_keyword mk where t.id=mk.movie_id and mk.keyword_id = 20450;\n",
    "/*+ SeqScan(t) BitmapScan(mk) HashJoin(t mk) Leading (( mk t )) */ explain select count(*) from title t, movie_keyword mk where t.id=mk.movie_id and mk.keyword_id = 20450;\n",
    "/*+ SeqScan(t) BitmapScan(mk) NestLoop(mk t) Leading (( t mk )) */ explain select count(*) from title t, movie_keyword mk where t.id=mk.movie_id and mk.keyword_id = 20450;\n",
    "/*+ SeqScan(t) BitmapScan(mk) MergeJoin(mk t) Leading (( t mk )) */ explain select count(*) from title t, movie_keyword mk where t.id=mk.movie_id and mk.keyword_id = 20450;\n",
    "/*+ SeqScan(t) BitmapScan(mk) HashJoin(mk t) Leading (( t mk )) */ explain select count(*) from title t, movie_keyword mk where t.id=mk.movie_id and mk.keyword_id = 20450;\n",
    "/*+ IndexScan(t) SeqScan(mk) NestLoop(t mk) Leading (( mk t )) */ explain select count(*) from title t, movie_keyword mk where t.id=mk.movie_id and mk.keyword_id = 20450;\n",
    "/*+ IndexScan(t) SeqScan(mk) MergeJoin(t mk) Leading (( mk t )) */ explain select count(*) from title t, movie_keyword mk where t.id=mk.movie_id and mk.keyword_id = 20450;\n",
    "/*+ IndexScan(t) SeqScan(mk) HashJoin(t mk) Leading (( mk t )) */ explain select count(*) from title t, movie_keyword mk where t.id=mk.movie_id and mk.keyword_id = 20450;\n",
    "/*+ IndexScan(t) SeqScan(mk) NestLoop(mk t) Leading (( t mk )) */ explain select count(*) from title t, movie_keyword mk where t.id=mk.movie_id and mk.keyword_id = 20450;\n",
    "/*+ IndexScan(t) SeqScan(mk) MergeJoin(mk t) Leading (( t mk )) */ explain select count(*) from title t, movie_keyword mk where t.id=mk.movie_id and mk.keyword_id = 20450;\n",
    "/*+ IndexScan(t) SeqScan(mk) HashJoin(mk t) Leading (( t mk )) */ explain select count(*) from title t, movie_keyword mk where t.id=mk.movie_id and mk.keyword_id = 20450;\n",
    "/*+ IndexScan(t) IndexScan(mk) NestLoop(t mk) Leading (( mk t )) */ explain select count(*) from title t, movie_keyword mk where t.id=mk.movie_id and mk.keyword_id = 20450;\n",
    "/*+ IndexScan(t) IndexScan(mk) MergeJoin(t mk) Leading (( mk t )) */ explain select count(*) from title t, movie_keyword mk where t.id=mk.movie_id and mk.keyword_id = 20450;\n",
    "/*+ IndexScan(t) IndexScan(mk) HashJoin(t mk) Leading (( mk t )) */ explain select count(*) from title t, movie_keyword mk where t.id=mk.movie_id and mk.keyword_id = 20450;\n",
    "/*+ IndexScan(t) IndexScan(mk) NestLoop(mk t) Leading (( t mk )) */ explain select count(*) from title t, movie_keyword mk where t.id=mk.movie_id and mk.keyword_id = 20450;\n",
    "/*+ IndexScan(t) IndexScan(mk) MergeJoin(mk t) Leading (( t mk )) */ explain select count(*) from title t, movie_keyword mk where t.id=mk.movie_id and mk.keyword_id = 20450;\n",
    "/*+ IndexScan(t) IndexScan(mk) HashJoin(mk t) Leading (( t mk )) */ explain select count(*) from title t, movie_keyword mk where t.id=mk.movie_id and mk.keyword_id = 20450;\n",
    "/*+ IndexScan(t) BitmapScan(mk) NestLoop(t mk) Leading (( mk t )) */ explain select count(*) from title t, movie_keyword mk where t.id=mk.movie_id and mk.keyword_id = 20450;\n",
    "/*+ IndexScan(t) BitmapScan(mk) MergeJoin(t mk) Leading (( mk t )) */ explain select count(*) from title t, movie_keyword mk where t.id=mk.movie_id and mk.keyword_id = 20450;\n",
    "/*+ IndexScan(t) BitmapScan(mk) HashJoin(t mk) Leading (( mk t )) */ explain select count(*) from title t, movie_keyword mk where t.id=mk.movie_id and mk.keyword_id = 20450;\n",
    "/*+ IndexScan(t) BitmapScan(mk) NestLoop(mk t) Leading (( t mk )) */ explain select count(*) from title t, movie_keyword mk where t.id=mk.movie_id and mk.keyword_id = 20450;\n",
    "/*+ IndexScan(t) BitmapScan(mk) MergeJoin(mk t) Leading (( t mk )) */ explain select count(*) from title t, movie_keyword mk where t.id=mk.movie_id and mk.keyword_id = 20450;\n",
    "/*+ IndexScan(t) BitmapScan(mk) HashJoin(mk t) Leading (( t mk )) */ explain select count(*) from title t, movie_keyword mk where t.id=mk.movie_id and mk.keyword_id = 20450;\n",
    "/*+ BitmapScan(t) SeqScan(mk) NestLoop(t mk) Leading (( mk t )) */ explain select count(*) from title t, movie_keyword mk where t.id=mk.movie_id and mk.keyword_id = 20450;\n",
    "/*+ BitmapScan(t) SeqScan(mk) MergeJoin(t mk) Leading (( mk t )) */ explain select count(*) from title t, movie_keyword mk where t.id=mk.movie_id and mk.keyword_id = 20450;\n",
    "/*+ BitmapScan(t) SeqScan(mk) HashJoin(t mk) Leading (( mk t )) */ explain select count(*) from title t, movie_keyword mk where t.id=mk.movie_id and mk.keyword_id = 20450;\n",
    "/*+ BitmapScan(t) SeqScan(mk) NestLoop(mk t) Leading (( t mk )) */ explain select count(*) from title t, movie_keyword mk where t.id=mk.movie_id and mk.keyword_id = 20450;\n",
    "/*+ BitmapScan(t) SeqScan(mk) MergeJoin(mk t) Leading (( t mk )) */ explain select count(*) from title t, movie_keyword mk where t.id=mk.movie_id and mk.keyword_id = 20450;\n",
    "/*+ BitmapScan(t) SeqScan(mk) HashJoin(mk t) Leading (( t mk )) */ explain select count(*) from title t, movie_keyword mk where t.id=mk.movie_id and mk.keyword_id = 20450;\n",
    "/*+ BitmapScan(t) IndexScan(mk) NestLoop(t mk) Leading (( mk t )) */ explain select count(*) from title t, movie_keyword mk where t.id=mk.movie_id and mk.keyword_id = 20450;\n",
    "/*+ BitmapScan(t) IndexScan(mk) MergeJoin(t mk) Leading (( mk t )) */ explain select count(*) from title t, movie_keyword mk where t.id=mk.movie_id and mk.keyword_id = 20450;\n",
    "/*+ BitmapScan(t) IndexScan(mk) HashJoin(t mk) Leading (( mk t )) */ explain select count(*) from title t, movie_keyword mk where t.id=mk.movie_id and mk.keyword_id = 20450;\n",
    "/*+ BitmapScan(t) IndexScan(mk) NestLoop(mk t) Leading (( t mk )) */ explain select count(*) from title t, movie_keyword mk where t.id=mk.movie_id and mk.keyword_id = 20450;\n",
    "/*+ BitmapScan(t) IndexScan(mk) MergeJoin(mk t) Leading (( t mk )) */ explain select count(*) from title t, movie_keyword mk where t.id=mk.movie_id and mk.keyword_id = 20450;\n",
    "/*+ BitmapScan(t) IndexScan(mk) HashJoin(mk t) Leading (( t mk )) */ explain select count(*) from title t, movie_keyword mk where t.id=mk.movie_id and mk.keyword_id = 20450;\n",
    "/*+ BitmapScan(t) BitmapScan(mk) NestLoop(t mk) Leading (( mk t )) */ explain select count(*) from title t, movie_keyword mk where t.id=mk.movie_id and mk.keyword_id = 20450;\n",
    "/*+ BitmapScan(t) BitmapScan(mk) MergeJoin(t mk) Leading (( mk t )) */ explain select count(*) from title t, movie_keyword mk where t.id=mk.movie_id and mk.keyword_id = 20450;\n",
    "/*+ BitmapScan(t) BitmapScan(mk) HashJoin(t mk) Leading (( mk t )) */ explain select count(*) from title t, movie_keyword mk where t.id=mk.movie_id and mk.keyword_id = 20450;\n",
    "/*+ BitmapScan(t) BitmapScan(mk) NestLoop(mk t) Leading (( t mk )) */ explain select count(*) from title t, movie_keyword mk where t.id=mk.movie_id and mk.keyword_id = 20450;\n",
    "/*+ BitmapScan(t) BitmapScan(mk) MergeJoin(mk t) Leading (( t mk )) */ explain select count(*) from title t, movie_keyword mk where t.id=mk.movie_id and mk.keyword_id = 20450;\n",
    "/*+ BitmapScan(t) BitmapScan(mk) HashJoin(mk t) Leading (( t mk )) */ explain select count(*) from title t, movie_keyword mk where t.id=mk.movie_id and mk.keyword_id = 20450;\n",
    "\"\"\"\n",
    "\n",
    "print(b)"
   ],
   "metadata": {
    "collapsed": false
   }
  },
  {
   "cell_type": "code",
   "execution_count": 54,
   "outputs": [
    {
     "name": "stdout",
     "output_type": "stream",
     "text": [
      "\n",
      "Aggregate  (cost=222530.13..222530.14 rows=1 width=8) (actual time=49233.640..49233.800 rows=1 loops=1)\n",
      "  ->  Merge Join  (cost=80441.42..222529.26 rows=346 width=0) (actual time=582.397..49233.561 rows=17 loops=1)\n",
      "        Merge Cond: (t.id = mk.movie_id)\n",
      "        ->  Index Scan using title_pkey on title t  (cost=0.43..133834.36 rows=3300000 width=4) (actual time=0.031..25040.799 rows=3300000 loops=1)\n",
      "        ->  Sort  (cost=80440.98..80441.84 rows=346 width=4) (actual time=490.550..490.794 rows=18 loops=1)\n",
      "              Sort Key: mk.movie_id\n",
      "              Sort Method: quicksort  Memory: 27kB\n",
      "              ->  Gather  (cost=1000.00..80426.39 rows=346 width=4) (actual time=22.178..490.228 rows=50 loops=1)\n",
      "                    Workers Planned: 2\n",
      "                    Workers Launched: 2\n",
      "                    ->  Parallel Seq Scan on movie_keyword mk  (cost=0.00..79391.79 rows=144 width=4) (actual time=48.532..388.985 rows=17 loops=3)\n",
      "                          Filter: (keyword_id = 20450)\n",
      "                          Rows Removed by Filter: 2493346\n",
      "Planning Time: 10.906 ms\n",
      "JIT:\n",
      "  Functions: 19\n",
      "  Options: Inlining false, Optimization false, Expressions true, Deforming true\n",
      "  Timing: Generation 12.125 ms, Inlining 0.000 ms, Optimization 0.779 ms, Emission 25.524 ms, Total 38.428 ms\n",
      "Execution Time: 49234.317 ms\n",
      "\n"
     ]
    }
   ],
   "source": [
    "new_raw = \"\"\"\n",
    "Aggregate  (cost=222530.13..222530.14 rows=1 width=8) (actual time=49233.640..49233.800 rows=1 loops=1)\n",
    "  ->  Merge Join  (cost=80441.42..222529.26 rows=346 width=0) (actual time=582.397..49233.561 rows=17 loops=1)\n",
    "        Merge Cond: (t.id = mk.movie_id)\n",
    "        ->  Index Scan using title_pkey on title t  (cost=0.43..133834.36 rows=3300000 width=4) (actual time=0.031..25040.799 rows=3300000 loops=1)\n",
    "        ->  Sort  (cost=80440.98..80441.84 rows=346 width=4) (actual time=490.550..490.794 rows=18 loops=1)\n",
    "              Sort Key: mk.movie_id\n",
    "              Sort Method: quicksort  Memory: 27kB\n",
    "              ->  Gather  (cost=1000.00..80426.39 rows=346 width=4) (actual time=22.178..490.228 rows=50 loops=1)\n",
    "                    Workers Planned: 2\n",
    "                    Workers Launched: 2\n",
    "                    ->  Parallel Seq Scan on movie_keyword mk  (cost=0.00..79391.79 rows=144 width=4) (actual time=48.532..388.985 rows=17 loops=3)\n",
    "                          Filter: (keyword_id = 20450)\n",
    "                          Rows Removed by Filter: 2493346\n",
    "Planning Time: 10.906 ms\n",
    "JIT:\n",
    "  Functions: 19\n",
    "  Options: Inlining false, Optimization false, Expressions true, Deforming true\n",
    "  Timing: Generation 12.125 ms, Inlining 0.000 ms, Optimization 0.779 ms, Emission 25.524 ms, Total 38.428 ms\n",
    "Execution Time: 49234.317 ms\n",
    "\"\"\"\n",
    "\n",
    "print(new_raw)\n"
   ],
   "metadata": {
    "collapsed": false
   }
  },
  {
   "cell_type": "code",
   "execution_count": 55,
   "outputs": [
    {
     "data": {
      "text/plain": "0.9907921298614172"
     },
     "execution_count": 55,
     "metadata": {},
     "output_type": "execute_result"
    }
   ],
   "source": [
    "(5346925.973 - float(49233.800)) / 5346925.973"
   ],
   "metadata": {
    "collapsed": false
   }
  },
  {
   "cell_type": "markdown",
   "source": [],
   "metadata": {
    "collapsed": false
   }
  }
 ],
 "metadata": {
  "kernelspec": {
   "display_name": "Python 3",
   "language": "python",
   "name": "python3"
  },
  "language_info": {
   "codemirror_mode": {
    "name": "ipython",
    "version": 2
   },
   "file_extension": ".py",
   "mimetype": "text/x-python",
   "name": "python",
   "nbconvert_exporter": "python",
   "pygments_lexer": "ipython2",
   "version": "2.7.6"
  }
 },
 "nbformat": 4,
 "nbformat_minor": 0
}

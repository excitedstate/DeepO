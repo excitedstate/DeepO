{
 "cells": [
  {
   "cell_type": "code",
   "execution_count": 1,
   "metadata": {
    "collapsed": true
   },
   "outputs": [],
   "source": [
    "import re\n",
    "\n",
    "from src.basic import PostgresDB\n",
    "from src.config import DB_LAB_VM_CONFIG"
   ]
  },
  {
   "cell_type": "code",
   "execution_count": 2,
   "outputs": [],
   "source": [
    "db = PostgresDB(_config=DB_LAB_VM_CONFIG)"
   ],
   "metadata": {
    "collapsed": false
   }
  },
  {
   "cell_type": "code",
   "execution_count": 2,
   "outputs": [],
   "source": [
    "import enum\n",
    "\n",
    "\n",
    "@enum.unique\n",
    "class OperatorType(enum.Enum):\n",
    "    BitMapHeapScan = \"Bitmap Heap Scan\"\n",
    "    BitMapIndexScan = \"Bitmap Index Scan\"\n",
    "    Gather = \"Gather\"\n",
    "    Hash = \"Hash\"\n",
    "    HashJoin = \"Hash Join\"\n",
    "    IndexOnlyScan = \"Index Only Scan\"\n",
    "    IndexScan = \"Index Scan\"\n",
    "    Memorize = \"Memoize\"\n",
    "    NestedLoop = \"Nested Loop\"\n",
    "    PartialAggregate = \"Partial Aggregate\"\n",
    "    SeqSCAN = \"Seq Scan\"\n",
    "    Materialize = \"Materialize\"\n",
    "    NotImplemented = \"Not Implemented\"\n"
   ],
   "metadata": {
    "collapsed": false
   }
  },
  {
   "cell_type": "code",
   "execution_count": 24,
   "outputs": [],
   "source": [
    "_file_name = r\"C:\\Users\\QQ863\\Documents\\Projects\\PycharmProjects\\DeepO\\data\\plans_for_train\\16a\"\n",
    "_content = None\n",
    "with open(_file_name, \"r\", encoding=\"utf-8\") as _f:\n",
    "    _content = _f.read()"
   ],
   "metadata": {
    "collapsed": false
   }
  },
  {
   "cell_type": "code",
   "execution_count": 32,
   "outputs": [
    {
     "data": {
      "text/plain": "'Aggregate  (cost=2127.43..2127.44 rows=1 width=64) (actual time=2631.815..2631.820 rows=1 loops=1)\\n  '"
     },
     "execution_count": 32,
     "metadata": {},
     "output_type": "execute_result"
    }
   ],
   "source": [
    "import rich\n",
    "\n",
    "operators_raw = _content.split(\"->\")\n",
    "operators_raw[0]"
   ],
   "metadata": {
    "collapsed": false
   }
  },
  {
   "cell_type": "code",
   "execution_count": 191,
   "outputs": [],
   "source": [
    "\n",
    "\n",
    "class TreeNode:\n",
    "    def __init__(self, parent, content, layer):\n",
    "        self.parent = parent\n",
    "        self.layer = layer\n",
    "        self.content = content\n",
    "        self.left = None\n",
    "        self.right = None\n",
    "\n",
    "    def add_child(self, child):\n",
    "        assert self.left is None or self.right is None, child\n",
    "        if self.left is None:\n",
    "            self.left = child\n",
    "        else:\n",
    "            self.right = child\n",
    "\n",
    "    def __str__(self):\n",
    "        return self.content.strip()[:20] + \" \" + str(self.layer)\n",
    "\n",
    "\n",
    "def operators_generator(_content):\n",
    "    _temp = list()\n",
    "    for _line in _content.split(\"\\n\"):\n",
    "        if '->' in _line:\n",
    "            yield '\\n'.join(_temp)\n",
    "            _temp = [_line]\n",
    "        else:\n",
    "            _temp.append(_line)\n",
    "    yield '\\n'.join(_temp)\n",
    "\n",
    "\n",
    "cur_layer = 0\n",
    "cur_blank = 0\n",
    "root_node = TreeNode(None, operators_raw[0], cur_layer)\n",
    "cur_node = root_node\n",
    "blank2layer = {0: 0}\n",
    "gene = tuple(operators_generator(_content))\n",
    "for _op_raw in gene[1:]:\n",
    "    _arrow_pos = _op_raw.find(\"->\")\n",
    "    if _arrow_pos > cur_blank:\n",
    "        # # 达到下一层次\n",
    "        cur_layer += 1\n",
    "        cur_blank = _arrow_pos\n",
    "        blank2layer[cur_blank] = cur_layer\n",
    "        new_node = TreeNode(cur_node, _op_raw, cur_layer)\n",
    "        cur_node.add_child(new_node)\n",
    "        cur_node = new_node\n",
    "    elif _arrow_pos == cur_blank:\n",
    "        # # 一个新的节点\n",
    "        new_node = TreeNode(cur_node.parent, _op_raw, cur_layer)\n",
    "        cur_node.parent.add_child(new_node)\n",
    "        cur_node = new_node\n",
    "    else:\n",
    "        cur_blank = _arrow_pos\n",
    "        fallback_layer = blank2layer[cur_blank]\n",
    "        for _ in range(cur_layer - fallback_layer + 1):\n",
    "            cur_node = cur_node.parent\n",
    "        cur_layer = fallback_layer\n",
    "        new_node = TreeNode(cur_node, _op_raw, cur_layer)\n",
    "        cur_node.add_child(new_node)\n",
    "        cur_node = new_node"
   ],
   "metadata": {
    "collapsed": false
   }
  },
  {
   "cell_type": "code",
   "execution_count": 189,
   "outputs": [
    {
     "name": "stdout",
     "output_type": "stream",
     "text": [
      "Aggregate  (cost=212 0\n",
      "->  Nested Loop  (co 1\n",
      "->  Nested Loop  (co 2\n",
      "->  Nested Loop  (co 3\n",
      "->  Nested Loop  (co 4\n",
      "->  Nested Loop  (co 5\n",
      "->  Nested Loop  (co 6\n",
      "->  Nested Loop  (co 7\n",
      "->  Index Scan using 8\n",
      "->  Bitmap Heap Scan 8\n",
      "->  Bitmap Index Sca 9\n",
      "->  Index Scan using 7\n",
      "->  Index Scan using 6\n",
      "->  Index Scan using 5\n",
      "->  Index Scan using 4\n",
      "->  Index Only Scan  3\n",
      "->  Index Scan using 2\n"
     ]
    }
   ],
   "source": [
    "def pre_order(_cur_node):\n",
    "    if _cur_node is not None:\n",
    "        print(_cur_node)\n",
    "        pre_order(_cur_node.left)\n",
    "        pre_order(_cur_node.right)\n",
    "\n",
    "\n",
    "pre_order(root_node)"
   ],
   "metadata": {
    "collapsed": false
   }
  },
  {
   "cell_type": "code",
   "execution_count": 207,
   "outputs": [
    {
     "data": {
      "text/plain": "['Aggregate',\n '(cost=2127.43..2127.44 rows=1 width=64) (actual time=2631.815..2631.820 rows=1 loops=1)']"
     },
     "execution_count": 207,
     "metadata": {},
     "output_type": "execute_result"
    }
   ],
   "source": [
    "# # 先去掉\n",
    "\n",
    "gene[0].strip().split(\"  \")"
   ],
   "metadata": {
    "collapsed": false
   }
  },
  {
   "cell_type": "code",
   "execution_count": 211,
   "outputs": [
    {
     "data": {
      "text/plain": "['->',\n 'Nested Loop',\n '(cost=10.62..2126.65 rows=155 width=32) (actual time=122.410..2631.008 rows=1041 loops=1)']"
     },
     "execution_count": 211,
     "metadata": {},
     "output_type": "execute_result"
    }
   ],
   "source": [
    "list(map(lambda _phase: _phase.strip(), gene[1].strip().split(\"\\n\")))[0].split(\"  \")"
   ],
   "metadata": {
    "collapsed": false
   }
  },
  {
   "cell_type": "code",
   "execution_count": 217,
   "outputs": [
    {
     "data": {
      "text/plain": "['->',\n 'Bitmap Index Scan on movie_keyword_idx_keywordid',\n '(cost=0.00..7.51 rows=411 width=0) (actual time=50.421..50.422 rows=43721 loops=1)']"
     },
     "execution_count": 217,
     "metadata": {},
     "output_type": "execute_result"
    }
   ],
   "source": [
    "list(map(lambda _phase: _phase.strip(), gene[10].strip().split(\"\\n\")))[0].split(\"  \")"
   ],
   "metadata": {
    "collapsed": false
   }
  },
  {
   "cell_type": "code",
   "execution_count": 252,
   "outputs": [
    {
     "data": {
      "text/plain": "['episode_nr >= 50', 'episode_nr < 100', 'episode_nr < 100']"
     },
     "execution_count": 252,
     "metadata": {},
     "output_type": "execute_result"
    }
   ],
   "source": [
    "# # 多重条件的解法\n",
    "cond_exp = \"((episode_nr >= 50) AND NOT (episode_nr < 100) AND (episode_nr < 100))\"[1:-1]\n",
    "list(map(lambda _s: _s[1:-1], re.sub(\"AND NOT|OR NOT|AND|OR\", '', cond_exp).split(\"  \")))"
   ],
   "metadata": {
    "collapsed": false
   }
  },
  {
   "cell_type": "code",
   "execution_count": 262,
   "outputs": [
    {
     "data": {
      "text/plain": "['AND NOT', 'AND']"
     },
     "execution_count": 262,
     "metadata": {},
     "output_type": "execute_result"
    }
   ],
   "source": [
    "res = re.findall(\"AND NOT|OR NOT|AND|OR\", cond_exp)"
   ],
   "metadata": {
    "collapsed": false
   }
  },
  {
   "cell_type": "code",
   "execution_count": 269,
   "outputs": [
    {
     "data": {
      "text/plain": "'323'"
     },
     "execution_count": 269,
     "metadata": {},
     "output_type": "execute_result"
    }
   ],
   "source": [
    "a = \"323 IS NOT NULL\"\n",
    "a.replace(\" IS NOT NULL\", \"\")"
   ],
   "metadata": {
    "collapsed": false
   }
  },
  {
   "cell_type": "markdown",
   "source": [],
   "metadata": {
    "collapsed": false
   }
  },
  {
   "cell_type": "code",
   "execution_count": 311,
   "outputs": [
    {
     "data": {
      "text/plain": "\"country_code = '[us]'\""
     },
     "execution_count": 311,
     "metadata": {},
     "output_type": "execute_result"
    }
   ],
   "source": [
    "re.sub(\"::text|\\(|\\)\", \"\", \"(country_code)::text = '[us]'::text\")"
   ],
   "metadata": {
    "collapsed": false
   }
  },
  {
   "cell_type": "code",
   "execution_count": 327,
   "outputs": [
    {
     "data": {
      "text/plain": "<re.Match object; span=(0, 1), match=\"'\">"
     },
     "execution_count": 327,
     "metadata": {},
     "output_type": "execute_result"
    }
   ],
   "source": [
    "re.match(\"[>=<\\']\", \"'\")"
   ],
   "metadata": {
    "collapsed": false
   }
  }
 ],
 "metadata": {
  "kernelspec": {
   "display_name": "Python 3",
   "language": "python",
   "name": "python3"
  },
  "language_info": {
   "codemirror_mode": {
    "name": "ipython",
    "version": 2
   },
   "file_extension": ".py",
   "mimetype": "text/x-python",
   "name": "python",
   "nbconvert_exporter": "python",
   "pygments_lexer": "ipython2",
   "version": "2.7.6"
  }
 },
 "nbformat": 4,
 "nbformat_minor": 0
}
